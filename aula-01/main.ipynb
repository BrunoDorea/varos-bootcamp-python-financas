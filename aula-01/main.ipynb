{
 "cells": [
  {
   "cell_type": "code",
   "execution_count": null,
   "outputs": [],
   "source": [
    "# instalando bibliotecas\n",
    "\n",
    "# !pip install yfinance==0.1.74\n",
    "# !pip install mplcyberpunk\n",
    "# !pip install python-dotenv"
   ],
   "metadata": {
    "collapsed": false
   }
  },
  {
   "cell_type": "code",
   "execution_count": null,
   "outputs": [],
   "source": [
    "# Passo 1 - Importando os módulos necessários\n",
    "\n",
    "import pandas as pd\n",
    "import datetime\n",
    "import yfinance as yf\n",
    "from matplotlib import pyplot as plt\n",
    "import mplcyberpunk\n",
    "import smtplib\n",
    "from email.message import EmailMessage\n",
    "import os\n",
    "from dotenv import load_dotenv"
   ],
   "metadata": {
    "collapsed": false
   }
  },
  {
   "cell_type": "code",
   "execution_count": null,
   "outputs": [],
   "source": [
    "# Passo 2 - Pegando dados do Yahoo Finance\n",
    "ativos = ['^BVSP', 'BRL=X', 'ITSA4.SA']\n",
    "hoje = datetime.datetime.now()\n",
    "um_ano_atras = hoje - datetime.timedelta(days=365)\n",
    "dados_mercados = yf.download(ativos, um_ano_atras, hoje)\n",
    "\n",
    "# print(dados_mercados)"
   ],
   "metadata": {
    "collapsed": false
   }
  },
  {
   "cell_type": "code",
   "execution_count": null,
   "outputs": [],
   "source": [
    "# Passo 3.1 - Manipulando os dados - seleção e exclusão de dados\n",
    "dados_fechamento = dados_mercados['Adj Close']\n",
    "dados_fechamento.columns = ['ibovespa', 'dolar', 'itau sa']\n",
    "dados_fechamento = dados_fechamento.dropna()\n",
    "\n",
    "# print(dados_fechamento)"
   ],
   "metadata": {
    "collapsed": false
   }
  },
  {
   "cell_type": "code",
   "execution_count": null,
   "outputs": [],
   "source": [
    "# Passos 3.2 - Manipulando os dados - criando tabelas com outros timeframes\n",
    "dados_fechamento_mensal = dados_fechamento.resample(\"M\").last()\n",
    "dados_fechamento_anual = dados_fechamento.resample(\"Y\").last()\n",
    "\n",
    "# print(dados_fechamento_mensal)\n",
    "# print(dados_fechamento_anual)"
   ],
   "metadata": {
    "collapsed": false
   }
  },
  {
   "cell_type": "code",
   "execution_count": null,
   "outputs": [],
   "source": [
    "# Passo 4 - Calcular o fechamento do dia, retorno do ano e retorno no mês dos ativos\n",
    "retorno_no_ano = dados_fechamento_anual.pct_change().dropna()\n",
    "retorno_no_mes = dados_fechamento_mensal.pct_change().dropna()\n",
    "retorno_no_dia = dados_fechamento.pct_change().dropna()\n",
    "\n",
    "# print(retorno_no_dia)"
   ],
   "metadata": {
    "collapsed": false
   }
  },
  {
   "cell_type": "code",
   "execution_count": null,
   "outputs": [],
   "source": [
    "# Passo 5 - Localizar o fechamento do dia anterior, retorno do mês e retorno do ano\n",
    "retorno_dia_dolar = round(retorno_no_dia.iloc[-1, 0] * 100, 2)\n",
    "retorno_dia_ibovespa = round(retorno_no_dia.iloc[-1, 1] * 100, 2)\n",
    "retorno_dia_itausa = round(retorno_no_dia.iloc[-1, 2] * 100, 2)\n",
    "\n",
    "retorno_mes_dolar = round(retorno_no_mes.iloc[-1, 0] * 100, 2)\n",
    "retorno_mes_ibovespa = round(retorno_no_mes.iloc[-1, 1] * 100, 2)\n",
    "retorno_mes_itausa = round(retorno_no_mes.iloc[-1, 2] * 100, 2)\n",
    "\n",
    "retorno_ano_dolar = round(retorno_no_ano.iloc[-1, 0] * 100, 2)\n",
    "retorno_ano_ibovespa = round(retorno_no_ano.iloc[-1, 1] * 100, 2)\n",
    "retorno_ano_itausa = round(retorno_no_ano.iloc[-1, 2] * 100, 2)\n",
    "\n",
    "# print(retorno_dia_ibovespa, retorno_dia_dolar, retorno_dia_itausa)\n"
   ],
   "metadata": {
    "collapsed": false
   }
  },
  {
   "cell_type": "code",
   "execution_count": null,
   "outputs": [],
   "source": [
    "# Passo 6 - Gerar os gráficos da performance do último dos ativos\n",
    "plt.style.use('cyberpunk')\n",
    "\n",
    "dados_fechamento.plot(y='dolar', use_index=True, legend=False)\n",
    "plt.title('Dolar')\n",
    "plt.savefig('dolar.png', dpi=300)\n",
    "plt.show()"
   ],
   "metadata": {
    "collapsed": false
   }
  },
  {
   "cell_type": "code",
   "execution_count": null,
   "outputs": [],
   "source": [
    "plt.style.use('cyberpunk')\n",
    "dados_fechamento.plot(y='itausa', use_index=True, legend=False)\n",
    "plt.title('Itau')\n",
    "plt.savefig('itausa.png', dpi=300)\n",
    "plt.show()"
   ],
   "metadata": {
    "collapsed": false
   }
  },
  {
   "cell_type": "code",
   "execution_count": null,
   "outputs": [],
   "source": [
    "plt.style.use('cyberpunk')\n",
    "dados_fechamento.plot(y='ibovespa', use_index=True, legend=False)\n",
    "plt.title('Ibovespa')\n",
    "plt.savefig('ibovespa.png', dpi=300)\n",
    "plt.show()"
   ],
   "metadata": {
    "collapsed": false
   }
  },
  {
   "cell_type": "code",
   "execution_count": 30,
   "outputs": [
    {
     "ename": "NameError",
     "evalue": "name 'load_dotenv' is not defined",
     "output_type": "error",
     "traceback": [
      "\u001B[1;31m---------------------------------------------------------------------------\u001B[0m",
      "\u001B[1;31mNameError\u001B[0m                                 Traceback (most recent call last)",
      "Cell \u001B[1;32mIn[30], line 2\u001B[0m\n\u001B[0;32m      1\u001B[0m \u001B[38;5;66;03m# Passo 7 - Enviar email\u001B[39;00m\n\u001B[1;32m----> 2\u001B[0m \u001B[43mload_dotenv\u001B[49m()\n",
      "\u001B[1;31mNameError\u001B[0m: name 'load_dotenv' is not defined"
     ]
    }
   ],
   "source": [
    "# Passo 7 - Enviar email\n",
    "load_dotenv()"
   ],
   "metadata": {
    "collapsed": false
   }
  },
  {
   "cell_type": "code",
   "execution_count": null,
   "outputs": [],
   "source": [],
   "metadata": {
    "collapsed": false
   }
  }
 ],
 "metadata": {
  "kernelspec": {
   "display_name": "Python 3",
   "language": "python",
   "name": "python3"
  },
  "language_info": {
   "codemirror_mode": {
    "name": "ipython",
    "version": 2
   },
   "file_extension": ".py",
   "mimetype": "text/x-python",
   "name": "python",
   "nbconvert_exporter": "python",
   "pygments_lexer": "ipython2",
   "version": "2.7.6"
  }
 },
 "nbformat": 4,
 "nbformat_minor": 0
}
